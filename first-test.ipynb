{
 "cells": [
  {
   "cell_type": "code",
   "execution_count": 2,
   "id": "0fa00031",
   "metadata": {},
   "outputs": [],
   "source": [
    "import typing"
   ]
  },
  {
   "cell_type": "code",
   "execution_count": 6,
   "id": "11d3a2d3",
   "metadata": {},
   "outputs": [],
   "source": [
    "def lulz(msg: str) -> str:\n",
    "    return f'what do you want {msg}'"
   ]
  },
  {
   "cell_type": "code",
   "execution_count": 8,
   "id": "d4e19c81",
   "metadata": {},
   "outputs": [
    {
     "data": {
      "text/plain": [
       "'what do you want andy'"
      ]
     },
     "execution_count": 8,
     "metadata": {},
     "output_type": "execute_result"
    }
   ],
   "source": [
    "lulz('andy')"
   ]
  },
  {
   "cell_type": "code",
   "execution_count": null,
   "id": "aa74efc2",
   "metadata": {},
   "outputs": [],
   "source": []
  }
 ],
 "metadata": {
  "kernelspec": {
   "display_name": "Python 3 (ipykernel)",
   "language": "python",
   "name": "python3"
  },
  "language_info": {
   "codemirror_mode": {
    "name": "ipython",
    "version": 3
   },
   "file_extension": ".py",
   "mimetype": "text/x-python",
   "name": "python",
   "nbconvert_exporter": "python",
   "pygments_lexer": "ipython3",
   "version": "3.11.3"
  }
 },
 "nbformat": 4,
 "nbformat_minor": 5
}
