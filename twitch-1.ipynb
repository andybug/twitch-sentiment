{
 "cells": [
  {
   "cell_type": "markdown",
   "id": "7b7cabe8",
   "metadata": {},
   "source": [
    "# Twitch Sentiment Analysis\n",
    "\n",
    "The goal of this project is to be able to analyse the average sentiment across a Twitch stream."
   ]
  },
  {
   "cell_type": "code",
   "execution_count": 1,
   "id": "c1de7b41",
   "metadata": {},
   "outputs": [],
   "source": [
    "import os\n",
    "import re\n",
    "import pandas as pd\n",
    "from datetime import datetime\n",
    "\n",
    "def read_logs(path: str) -> pd.DataFrame:\n",
    "    files: str = [os.path.join(path, f) for f in os.listdir(path) if os.path.isfile(os.path.join(path, f))]\n",
    "    dataframes: array(pd.DataFrame) = []\n",
    "    for file in files:\n",
    "        df: pd.DataFrame = read_log(file)\n",
    "        dataframes.append(df)\n",
    "    return pd.concat(dataframes, ignore_index=True)\n",
    "\n",
    "def read_log(path: str) -> pd.DataFrame:\n",
    "    (stream, date) = split_file_name(path)\n",
    "    \n",
    "    #df = pd.DataFrame(columns=['timestamp', 'user', 'message'])\n",
    "    rows = []\n",
    "\n",
    "    with open(path, 'r') as file:\n",
    "        for line in file:\n",
    "            try:\n",
    "                rows.append(parse_line(date, line))\n",
    "            except ParseLineException as e:\n",
    "                print(e)\n",
    "                continue\n",
    "            except NonMessageLineException as nmle:\n",
    "                continue\n",
    "                \n",
    "#             try:\n",
    "#                 # Create a new row with the parsed data and append it to the DataFrame\n",
    "#                 #new_row = {'timestamp': date, 'user': user, 'message': message}\n",
    "#                 #df = df.append(new_row, ignore_index=True)\n",
    "#                 new_df = pd.DataFrame({'timestamp': [date], 'user': [user], 'message': [message]})\n",
    "#                 rows.append(new_df)\n",
    "#             except ValueError:\n",
    "#                 pass\n",
    "            \n",
    "#     df = pd.concat(rows, ignore_index=True)\n",
    "    df = pd.DataFrame(rows, columns=['ts', 'user', 'message'])\n",
    "    return df\n",
    "\n",
    "class ParseLineException(Exception):\n",
    "    pass\n",
    "\n",
    "class NonMessageLineException(Exception):\n",
    "    pass\n",
    "\n",
    "def parse_line(date: datetime.date, line: str) -> (datetime, str, str):\n",
    "    pattern = r'^\\[(\\d{2}:\\d{2}:\\d{2})\\]\\s{2}(\\w+):\\s(.*)$'\n",
    "    match = re.match(pattern, line)\n",
    "    \n",
    "    if not match:\n",
    "        if re.match(r'.*\\](\\s{1})\\w+', line):\n",
    "            # announcement line, ignore\n",
    "            raise NonMessageLineException(line)\n",
    "        else:\n",
    "            raise ParseLineException(f'failed to parse line: {line}')\n",
    "\n",
    "    time_str = match.group(1)\n",
    "    username = match.group(2)\n",
    "    message = match.group(3)\n",
    "    \n",
    "    time_obj = datetime.strptime(time_str, '%H:%M:%S').time()\n",
    "    datetime_obj = datetime.combine(date, time_obj)\n",
    "    \n",
    "    return (datetime_obj, username, message)\n",
    "\n",
    "def split_file_name(path: str) -> (str, datetime.date):\n",
    "    pattern = r'^(.+?)-(\\d{4}-\\d{2}-\\d{2})\\.log$'\n",
    "    \n",
    "    match = re.match(pattern, os.path.basename(path))\n",
    "    stream_name = match.group(1)\n",
    "    date_str = match.group(2)\n",
    "    \n",
    "    date = datetime.strptime(date_str, '%Y-%m-%d').date()\n",
    "    return (stream_name, date)\n",
    "\n"
   ]
  },
  {
   "cell_type": "code",
   "execution_count": 2,
   "id": "4d9c60ad",
   "metadata": {},
   "outputs": [
    {
     "name": "stdout",
     "output_type": "stream",
     "text": [
      "failed to parse line: # Start logging at 2023-05-11 09:08:12 CDT\n",
      "\n",
      "failed to parse line: # Start logging at 2023-05-11 20:49:42 CDT\n",
      "\n",
      "failed to parse line: # Start logging at 2023-05-09 17:18:50 CDT\n",
      "\n",
      "failed to parse line: # Start logging at 2023-05-10 17:11:49 CDT\n",
      "\n",
      "failed to parse line: [22:10:20] \n",
      "\n",
      "CPU times: user 225 ms, sys: 5.98 ms, total: 231 ms\n",
      "Wall time: 234 ms\n"
     ]
    },
    {
     "data": {
      "text/html": [
       "<div>\n",
       "<style scoped>\n",
       "    .dataframe tbody tr th:only-of-type {\n",
       "        vertical-align: middle;\n",
       "    }\n",
       "\n",
       "    .dataframe tbody tr th {\n",
       "        vertical-align: top;\n",
       "    }\n",
       "\n",
       "    .dataframe thead th {\n",
       "        text-align: right;\n",
       "    }\n",
       "</style>\n",
       "<table border=\"1\" class=\"dataframe\">\n",
       "  <thead>\n",
       "    <tr style=\"text-align: right;\">\n",
       "      <th></th>\n",
       "      <th>ts</th>\n",
       "      <th>user</th>\n",
       "      <th>message</th>\n",
       "    </tr>\n",
       "  </thead>\n",
       "  <tbody>\n",
       "    <tr>\n",
       "      <th>0</th>\n",
       "      <td>2023-05-11 09:08:18</td>\n",
       "      <td>acabmilfweed</td>\n",
       "      <td>@magnanimus86 they look so goofy lmao</td>\n",
       "    </tr>\n",
       "    <tr>\n",
       "      <th>1</th>\n",
       "      <td>2023-05-11 09:08:19</td>\n",
       "      <td>unsoursop</td>\n",
       "      <td>Next time he dies the character needs to be na...</td>\n",
       "    </tr>\n",
       "    <tr>\n",
       "      <th>2</th>\n",
       "      <td>2023-05-11 09:08:19</td>\n",
       "      <td>fxzues</td>\n",
       "      <td>at this rate we wont have summit later in the ...</td>\n",
       "    </tr>\n",
       "    <tr>\n",
       "      <th>3</th>\n",
       "      <td>2023-05-11 09:08:21</td>\n",
       "      <td>dovahthekiin</td>\n",
       "      <td>AngelThump</td>\n",
       "    </tr>\n",
       "    <tr>\n",
       "      <th>4</th>\n",
       "      <td>2023-05-11 09:08:22</td>\n",
       "      <td>und3rwearbandit</td>\n",
       "      <td>@retroinformer lol</td>\n",
       "    </tr>\n",
       "  </tbody>\n",
       "</table>\n",
       "</div>"
      ],
      "text/plain": [
       "                   ts             user   \n",
       "0 2023-05-11 09:08:18     acabmilfweed  \\\n",
       "1 2023-05-11 09:08:19        unsoursop   \n",
       "2 2023-05-11 09:08:19           fxzues   \n",
       "3 2023-05-11 09:08:21     dovahthekiin   \n",
       "4 2023-05-11 09:08:22  und3rwearbandit   \n",
       "\n",
       "                                             message  \n",
       "0              @magnanimus86 they look so goofy lmao  \n",
       "1  Next time he dies the character needs to be na...  \n",
       "2  at this rate we wont have summit later in the ...  \n",
       "3                                         AngelThump  \n",
       "4                                 @retroinformer lol  "
      ]
     },
     "execution_count": 2,
     "metadata": {},
     "output_type": "execute_result"
    }
   ],
   "source": [
    "%%time\n",
    "df = read_logs('data')\n",
    "df.head()"
   ]
  },
  {
   "cell_type": "code",
   "execution_count": 3,
   "id": "6ea8a44f",
   "metadata": {
    "scrolled": true
   },
   "outputs": [
    {
     "data": {
      "text/plain": [
       "count    8490.000000\n",
       "mean        5.835807\n",
       "std        27.705218\n",
       "min         1.000000\n",
       "25%         1.000000\n",
       "50%         2.000000\n",
       "75%         4.000000\n",
       "max      1830.000000\n",
       "Name: count, dtype: float64"
      ]
     },
     "execution_count": 3,
     "metadata": {},
     "output_type": "execute_result"
    }
   ],
   "source": [
    "df.user.value_counts().describe()"
   ]
  },
  {
   "cell_type": "markdown",
   "id": "f411693c",
   "metadata": {},
   "source": [
    "## VADER\n",
    "\n",
    "First, we'll try to use VADER to classify the sentiment and add a column called `sentiment` to the `DataFrame`."
   ]
  },
  {
   "cell_type": "code",
   "execution_count": 4,
   "id": "ee7bd39c",
   "metadata": {
    "scrolled": true
   },
   "outputs": [
    {
     "data": {
      "text/html": [
       "<div>\n",
       "<style scoped>\n",
       "    .dataframe tbody tr th:only-of-type {\n",
       "        vertical-align: middle;\n",
       "    }\n",
       "\n",
       "    .dataframe tbody tr th {\n",
       "        vertical-align: top;\n",
       "    }\n",
       "\n",
       "    .dataframe thead th {\n",
       "        text-align: right;\n",
       "    }\n",
       "</style>\n",
       "<table border=\"1\" class=\"dataframe\">\n",
       "  <thead>\n",
       "    <tr style=\"text-align: right;\">\n",
       "      <th></th>\n",
       "      <th>ts</th>\n",
       "      <th>user</th>\n",
       "      <th>message</th>\n",
       "      <th>vader_compound</th>\n",
       "    </tr>\n",
       "  </thead>\n",
       "  <tbody>\n",
       "    <tr>\n",
       "      <th>0</th>\n",
       "      <td>2023-05-11 09:08:18</td>\n",
       "      <td>acabmilfweed</td>\n",
       "      <td>@magnanimus86 they look so goofy lmao</td>\n",
       "      <td>0.6344</td>\n",
       "    </tr>\n",
       "    <tr>\n",
       "      <th>1</th>\n",
       "      <td>2023-05-11 09:08:19</td>\n",
       "      <td>unsoursop</td>\n",
       "      <td>Next time he dies the character needs to be na...</td>\n",
       "      <td>0.0000</td>\n",
       "    </tr>\n",
       "    <tr>\n",
       "      <th>2</th>\n",
       "      <td>2023-05-11 09:08:19</td>\n",
       "      <td>fxzues</td>\n",
       "      <td>at this rate we wont have summit later in the ...</td>\n",
       "      <td>0.0000</td>\n",
       "    </tr>\n",
       "    <tr>\n",
       "      <th>3</th>\n",
       "      <td>2023-05-11 09:08:21</td>\n",
       "      <td>dovahthekiin</td>\n",
       "      <td>AngelThump</td>\n",
       "      <td>0.0000</td>\n",
       "    </tr>\n",
       "    <tr>\n",
       "      <th>4</th>\n",
       "      <td>2023-05-11 09:08:22</td>\n",
       "      <td>und3rwearbandit</td>\n",
       "      <td>@retroinformer lol</td>\n",
       "      <td>0.4215</td>\n",
       "    </tr>\n",
       "  </tbody>\n",
       "</table>\n",
       "</div>"
      ],
      "text/plain": [
       "                   ts             user   \n",
       "0 2023-05-11 09:08:18     acabmilfweed  \\\n",
       "1 2023-05-11 09:08:19        unsoursop   \n",
       "2 2023-05-11 09:08:19           fxzues   \n",
       "3 2023-05-11 09:08:21     dovahthekiin   \n",
       "4 2023-05-11 09:08:22  und3rwearbandit   \n",
       "\n",
       "                                             message  vader_compound  \n",
       "0              @magnanimus86 they look so goofy lmao          0.6344  \n",
       "1  Next time he dies the character needs to be na...          0.0000  \n",
       "2  at this rate we wont have summit later in the ...          0.0000  \n",
       "3                                         AngelThump          0.0000  \n",
       "4                                 @retroinformer lol          0.4215  "
      ]
     },
     "execution_count": 4,
     "metadata": {},
     "output_type": "execute_result"
    }
   ],
   "source": [
    "from vaderSentiment.vaderSentiment import SentimentIntensityAnalyzer\n",
    "\n",
    "analyzer = SentimentIntensityAnalyzer()\n",
    "\n",
    "def get_vader_compound(msg: str) -> float:\n",
    "    results = analyzer.polarity_scores(msg)\n",
    "    return results['compound']\n",
    "\n",
    "df['vader_compound'] = df.apply(lambda row: get_vader_compound(row.message), axis=1)\n",
    "df.head()"
   ]
  },
  {
   "cell_type": "code",
   "execution_count": 5,
   "id": "043f9f1c",
   "metadata": {
    "scrolled": true
   },
   "outputs": [
    {
     "data": {
      "text/plain": [
       "<Axes: ylabel='Frequency'>"
      ]
     },
     "execution_count": 5,
     "metadata": {},
     "output_type": "execute_result"
    },
    {
     "data": {
      "image/png": "[encoded data removed]",
      "text/plain": [
       "<Figure size 640x480 with 1 Axes>"
      ]
     },
     "metadata": {},
     "output_type": "display_data"
    }
   ],
   "source": [
    "df.vader_compound.plot.hist(bins=11)"
   ]
  },
  {
   "cell_type": "code",
   "execution_count": 6,
   "id": "1d11f771",
   "metadata": {
    "scrolled": true
   },
   "outputs": [
    {
     "data": {
      "text/plain": [
       "count    49546.000000\n",
       "mean         0.047010\n",
       "std          0.286957\n",
       "min         -0.981300\n",
       "25%          0.000000\n",
       "50%          0.000000\n",
       "75%          0.000000\n",
       "max          0.982800\n",
       "Name: vader_compound, dtype: float64"
      ]
     },
     "execution_count": 6,
     "metadata": {},
     "output_type": "execute_result"
    }
   ],
   "source": [
    "df.vader_compound.describe()"
   ]
  },
  {
   "cell_type": "code",
   "execution_count": 7,
   "id": "f20a7fbc",
   "metadata": {
    "scrolled": true
   },
   "outputs": [
    {
     "data": {
      "text/plain": [
       "vader_compound\n",
       " 0.0000    32225\n",
       " 0.4215     1109\n",
       " 0.3612      660\n",
       " 0.4404      619\n",
       "-0.2960      612\n",
       "           ...  \n",
       " 0.7156        1\n",
       "-0.3744        1\n",
       " 0.8700        1\n",
       " 0.8344        1\n",
       "-0.2278        1\n",
       "Name: count, Length: 1572, dtype: int64"
      ]
     },
     "execution_count": 7,
     "metadata": {},
     "output_type": "execute_result"
    }
   ],
   "source": [
    "df.vader_compound.value_counts()"
   ]
  },
  {
   "cell_type": "code",
   "execution_count": 8,
   "id": "2ea1376e",
   "metadata": {},
   "outputs": [
    {
     "data": {
      "text/plain": [
       "message\n",
       "KEKW                                                                                                          916\n",
       "o7                                                                                                            578\n",
       "LUL                                                                                                           449\n",
       "HUH                                                                                                           251\n",
       "Catch the 1G Basics Merch collection at any time! -> https://summit1g.gg/                                     232\n",
       "OMEGALUL                                                                                                      207\n",
       "Pog                                                                                                           205\n",
       "zooted                                                                                                        198\n",
       "KEK                                                                                                           182\n",
       "Get 5% off systems over $1,299 with coupon code: \"summit\" https://www.cyberpowerpc.com/system/SUMMIT1G-100    162\n",
       "LETSGO                                                                                                        154\n",
       "PepeLaugh                                                                                                     152\n",
       "F                                                                                                             115\n",
       "Jigglin                                                                                                       112\n",
       "KEKL                                                                                                           98\n",
       "Name: count, dtype: int64"
      ]
     },
     "execution_count": 8,
     "metadata": {},
     "output_type": "execute_result"
    }
   ],
   "source": [
    "df.loc[df['vader_compound'] == 0.0].message.value_counts().head(15)"
   ]
  },
  {
   "cell_type": "markdown",
   "id": "26606a70",
   "metadata": {},
   "source": [
    "## TODO\n",
    "- Update the lexicon to include common words.\n",
    "  - <https://github.com/wredan/Twitch-Chat-Analyzer/blob/master/Spark/Python/code/modules/sentimentAnalysis.py>\n",
    "- Compare all tokens in input with the lexicon - output the most common missing.\n",
    "- Python module for chatterino logs.\n",
    "- Remove inputs with no tokens in the lexicon.\n",
    "- Sentiment by user and channel.\n",
    "\n",
    "See <https://stackoverflow.com/questions/40481348/is-it-possible-to-edit-nltks-vader-sentiment-lexicon>"
   ]
  },
  {
   "cell_type": "code",
   "execution_count": 12,
   "id": "7d4a60ba",
   "metadata": {},
   "outputs": [
    {
     "data": {
      "image/png": "[encoded data removed]",
      "text/plain": [
       "<Figure size 640x480 with 1 Axes>"
      ]
     },
     "metadata": {},
     "output_type": "display_data"
    }
   ],
   "source": [
    "import matplotlib.pyplot as plt\n",
    "import datetime as dt\n",
    "\n",
    "#df['ts'] = pd.to_datetime(df['ts'])\n",
    "#df.set_index('ts', inplace=True)\n",
    "\n",
    "df.head()\n",
    "#df_mean = df.resample('5T').mean()\n",
    "df_mean = df.resample('5T').agg(dict(vader_compound='mean'))\n",
    "\n",
    "\n",
    "plt.plot(df_mean.index, df_mean['vader_compound'])\n",
    "plt.xlabel('Time')\n",
    "plt.ylabel('5-Minute Average of Vader Compound Score')\n",
    "plt.gca().set_xbound(dt.date(2023,5,11), dt.date(2023,5,12))\n",
    "plt.show()"
   ]
  }
 ],
 "metadata": {
  "kernelspec": {
   "display_name": "Python 3 (ipykernel)",
   "language": "python",
   "name": "python3"
  },
  "language_info": {
   "codemirror_mode": {
    "name": "ipython",
    "version": 3
   },
   "file_extension": ".py",
   "mimetype": "text/x-python",
   "name": "python",
   "nbconvert_exporter": "python",
   "pygments_lexer": "ipython3",
   "version": "3.11.3"
  }
 },
 "nbformat": 4,
 "nbformat_minor": 5
}
